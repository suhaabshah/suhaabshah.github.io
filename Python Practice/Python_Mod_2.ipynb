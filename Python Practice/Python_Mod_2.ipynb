{
  "cells": [
    {
      "cell_type": "markdown",
      "metadata": {
        "id": "QFlNuqIfuWww"
      },
      "source": [
        "# Exercise Python Module 2"
      ]
    },
    {
      "cell_type": "markdown",
      "metadata": {
        "id": "ARUYxQgNuWw0"
      },
      "source": [
        "1. Write a program that prints the numbers from 1 to 10 using a for loop"
      ]
    },
    {
      "cell_type": "code",
      "execution_count": null,
      "metadata": {
        "id": "uDvjbZrRuWw1",
        "outputId": "e8496850-fa66-4de2-ab82-4541167ab16a"
      },
      "outputs": [
        {
          "name": "stdout",
          "output_type": "stream",
          "text": [
            "1\n",
            "2\n",
            "3\n",
            "4\n",
            "5\n",
            "6\n",
            "7\n",
            "8\n",
            "9\n",
            "10\n"
          ]
        }
      ],
      "source": [
        "for i in range (1,11):\n",
        "    print(i)"
      ]
    },
    {
      "cell_type": "markdown",
      "metadata": {
        "id": "tE3m3zECuWw3"
      },
      "source": [
        "2. Write a program that prints the numbers from 1 to 10 using a while loop"
      ]
    },
    {
      "cell_type": "code",
      "execution_count": null,
      "metadata": {
        "id": "B8h60j9cuWw3",
        "outputId": "9389682f-0cb6-48df-ef45-7c6ea1a2b577"
      },
      "outputs": [
        {
          "name": "stdout",
          "output_type": "stream",
          "text": [
            "1\n",
            "2\n",
            "3\n",
            "4\n",
            "5\n",
            "6\n",
            "7\n",
            "8\n",
            "9\n",
            "10\n"
          ]
        }
      ],
      "source": [
        "i = 1\n",
        "while i<=10:\n",
        "    print (i)\n",
        "    i+=1"
      ]
    },
    {
      "cell_type": "markdown",
      "metadata": {
        "id": "AzxihAkouWw4"
      },
      "source": [
        "3. Write a program that prints the even numbers from 1 to 10 using a for loop"
      ]
    },
    {
      "cell_type": "code",
      "execution_count": null,
      "metadata": {
        "id": "3tNLjloguWw6",
        "outputId": "0a380b83-c7d2-45d6-e73f-89729a218c47"
      },
      "outputs": [
        {
          "name": "stdout",
          "output_type": "stream",
          "text": [
            "2\n",
            "4\n",
            "6\n",
            "8\n",
            "10\n"
          ]
        }
      ],
      "source": [
        "for i in range (1,11):\n",
        "    if i%2==0:\n",
        "        print(i)"
      ]
    },
    {
      "cell_type": "markdown",
      "metadata": {
        "id": "nj73n4cAuWw6"
      },
      "source": [
        "4. . Write a program that prints the odd numbers from 1 to 10 using a while loop"
      ]
    },
    {
      "cell_type": "code",
      "execution_count": null,
      "metadata": {
        "id": "FyLdPle_uWw7",
        "outputId": "35ed29bf-3a54-4586-d6f4-b5bc951fd96f"
      },
      "outputs": [
        {
          "name": "stdout",
          "output_type": "stream",
          "text": [
            "1\n",
            "3\n",
            "5\n",
            "7\n",
            "9\n"
          ]
        }
      ],
      "source": [
        "i = 1\n",
        "while i<= 10:\n",
        "    if i%2!=0:\n",
        "        print (i)\n",
        "    i+=1"
      ]
    },
    {
      "cell_type": "markdown",
      "metadata": {
        "id": "YJvE49FHuWw7"
      },
      "source": [
        "5. Write a program that takes a number from the user and checks if it is positive, negative, or zero using\n",
        "an if-elif-else statement.\n"
      ]
    },
    {
      "cell_type": "code",
      "execution_count": null,
      "metadata": {
        "id": "mvyr6pejuWw7",
        "outputId": "528729a2-0767-464b-f157-37385cfa1672"
      },
      "outputs": [
        {
          "name": "stdout",
          "output_type": "stream",
          "text": [
            "this is negative\n"
          ]
        }
      ],
      "source": [
        "userinput = float(input('enter a number:'))\n",
        "if userinput >10 :\n",
        "    print (\"This is a postive number\")\n",
        "elif userinput <10:\n",
        "    print (\"this is negative\")\n",
        "else:\n",
        "    print (\"this is 0\")"
      ]
    },
    {
      "cell_type": "markdown",
      "metadata": {
        "id": "uqdDyeFAuWw8"
      },
      "source": [
        "6. Write a program that takes two numbers from the user and prints the largest of the two using an if-else\n",
        "statement.\n"
      ]
    },
    {
      "cell_type": "code",
      "execution_count": null,
      "metadata": {
        "id": "5-rwjfWuuWw8",
        "outputId": "10d43602-e991-458e-bbb1-780043a0070f"
      },
      "outputs": [
        {
          "name": "stdout",
          "output_type": "stream",
          "text": [
            "The largest number is: 6\n"
          ]
        }
      ],
      "source": [
        "num1 = int(input(\"enter 1st number:\"))\n",
        "num2 = int(input(\"enter 2nd number:\"))\n",
        "if num1>num2:\n",
        "    print(\"The largest number is:\",num1)\n",
        "else:\n",
        "    print(\"The largest number is:\",num2)"
      ]
    },
    {
      "cell_type": "markdown",
      "metadata": {
        "id": "WAREAWBCuWw8"
      },
      "source": [
        "7. Write a program that takes a list of numbers from the user and prints the sum of all the numbers using\n",
        "a for loop.\n",
        "\n"
      ]
    },
    {
      "cell_type": "code",
      "execution_count": null,
      "metadata": {
        "id": "gbMlR8kpuWw9",
        "outputId": "1d55e48e-17f0-4bf6-a7a0-00acd7235572"
      },
      "outputs": [
        {
          "name": "stdout",
          "output_type": "stream",
          "text": [
            "The sum of numbers is 4.0\n"
          ]
        }
      ],
      "source": [
        "userinput= input(\"Enter a list of number separated by spaces: \").split()\n",
        "sum = 0\n",
        "for num in userinput:\n",
        "     sum += float(num)\n",
        "print (\"The sum of numbers is\", sum)\n"
      ]
    },
    {
      "cell_type": "markdown",
      "metadata": {
        "id": "dhQVAwK_uWw9"
      },
      "source": [
        "8. Write a function to remove duplicates from a list while preserving the order.\n"
      ]
    },
    {
      "cell_type": "code",
      "execution_count": null,
      "metadata": {
        "id": "37OTQK8yuWw9"
      },
      "outputs": [],
      "source": [
        "def remove_duplicates_preserve_order(lst):\n",
        "    seen = set()\n",
        "    return [x for x in lst if not (x in seen or seen.add(x))]"
      ]
    },
    {
      "cell_type": "code",
      "execution_count": null,
      "metadata": {
        "id": "UpbpWGgLuWw9",
        "outputId": "fa04851c-3e53-465f-b638-1b99710305b2"
      },
      "outputs": [
        {
          "data": {
            "text/plain": [
              "[1, 2, 3, 4, 5, 6]"
            ]
          },
          "execution_count": 2,
          "metadata": {},
          "output_type": "execute_result"
        }
      ],
      "source": [
        "lst = [1, 2, 3, 2, 1, 4, 5, 4, 6]\n",
        "remove_duplicates_preserve_order(lst)"
      ]
    },
    {
      "cell_type": "markdown",
      "metadata": {
        "id": "PLyEtsW4uWw-"
      },
      "source": [
        "9. Write a function to find the second largest number in a list.\n"
      ]
    },
    {
      "cell_type": "code",
      "execution_count": null,
      "metadata": {
        "id": "KC0x910suWw-",
        "outputId": "eed472a8-cf45-4486-e22e-500e77c5bb11"
      },
      "outputs": [
        {
          "data": {
            "text/plain": [
              "8"
            ]
          },
          "execution_count": 3,
          "metadata": {},
          "output_type": "execute_result"
        }
      ],
      "source": [
        "def find_second_largest(lst):\n",
        "    lst.sort()\n",
        "    return lst[-2]\n",
        "\n",
        "lst = [5, 2, 8, 3, 1, 9, 4, 6, 7]\n",
        "find_second_largest(lst)"
      ]
    },
    {
      "cell_type": "markdown",
      "metadata": {
        "id": "sQeLouacuWw-"
      },
      "source": [
        "10. Write a function to count the frequency of words in a string using a dictionary.\n"
      ]
    },
    {
      "cell_type": "code",
      "execution_count": null,
      "metadata": {
        "id": "y1tiTfAvuWw_",
        "outputId": "2e1c52a6-9943-46ec-a052-ae7d2f0430ba"
      },
      "outputs": [
        {
          "data": {
            "text/plain": [
              "{'Suhaab': 1, 'Shah': 1}"
            ]
          },
          "execution_count": 7,
          "metadata": {},
          "output_type": "execute_result"
        }
      ],
      "source": [
        "def count_word_frequency(s):\n",
        "    words = s.split()\n",
        "    frequency = {}\n",
        "    for word in words:\n",
        "        if word in frequency:\n",
        "            frequency[word] += 1\n",
        "        else:\n",
        "            frequency[word] = 1\n",
        "    return frequency\n",
        "\n",
        "s = str(input(\"Enter a sentence:\"))\n",
        "count_word_frequency(s)\n"
      ]
    },
    {
      "cell_type": "markdown",
      "metadata": {
        "id": "Rj3KCH-fuWw_"
      },
      "source": [
        "11. Write a function to find the common elements in two dictionaries.\n"
      ]
    },
    {
      "cell_type": "code",
      "execution_count": null,
      "metadata": {
        "id": "XQebaoRHuWw_",
        "outputId": "87db1858-43e2-4381-a047-f46df0f31ad7"
      },
      "outputs": [
        {
          "name": "stdout",
          "output_type": "stream",
          "text": [
            "{'orange', 'banana', 'kiwi', 'grape'}\n"
          ]
        }
      ],
      "source": [
        "def common_dict(dict1,dict2):\n",
        "    return set(dict1.keys()) & set(dict2.keys())\n",
        "dict1 = {'apple': 2, 'banana': 3, 'orange': 1, 'grape': 4, 'kiwi':5}\n",
        "dict2 = {'orange': 1, 'banana': 3, 'watermelon': 2, 'kiwi':5,'grape': 4}\n",
        "\n",
        "common_dict = common_dict(dict1, dict2)\n",
        "\n",
        "print(common_dict)\n"
      ]
    },
    {
      "cell_type": "markdown",
      "metadata": {
        "id": "xAm4rMTbuWxA"
      },
      "source": [
        "12. Write a function to find the top N items in a dictionary based on their values"
      ]
    },
    {
      "cell_type": "code",
      "execution_count": null,
      "metadata": {
        "id": "WG-34i5auWxA",
        "outputId": "e87f474c-086d-4edd-ccd4-2000a541cd90"
      },
      "outputs": [
        {
          "data": {
            "text/plain": [
              "['banana', 'orange']"
            ]
          },
          "execution_count": 12,
          "metadata": {},
          "output_type": "execute_result"
        }
      ],
      "source": [
        "def find_top_n_items(d, n):\n",
        "    return sorted(d, key=d.get, reverse=True)[:n]\n",
        "\n",
        "d = {'apple': 10, 'banana': 20, 'cherry': 5, 'orange': 15}\n",
        "find_top_n_items(d, 2)"
      ]
    }
  ],
  "metadata": {
    "kernelspec": {
      "display_name": "Python 3",
      "language": "python",
      "name": "python3"
    },
    "language_info": {
      "codemirror_mode": {
        "name": "ipython",
        "version": 3
      },
      "file_extension": ".py",
      "mimetype": "text/x-python",
      "name": "python",
      "nbconvert_exporter": "python",
      "pygments_lexer": "ipython3",
      "version": "3.11.2"
    },
    "orig_nbformat": 4,
    "colab": {
      "provenance": []
    }
  },
  "nbformat": 4,
  "nbformat_minor": 0
}