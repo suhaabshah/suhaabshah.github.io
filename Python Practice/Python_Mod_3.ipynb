{
  "cells": [
    {
      "cell_type": "markdown",
      "metadata": {
        "id": "_AVkt7sSueKI"
      },
      "source": [
        " # Python Module 3 Exercises"
      ]
    },
    {
      "cell_type": "markdown",
      "metadata": {
        "id": "5okgFgMVueKN"
      },
      "source": [
        "1. Define a class named \"Person\" with attributes \"name\", \"age\", and \"gender\". Define a method called\n",
        "\"introduction\" which returns a string introducing the person. Create an instance of the class and call the \"introduction\" method."
      ]
    },
    {
      "cell_type": "code",
      "execution_count": null,
      "metadata": {
        "id": "10vwb3GFueKO",
        "outputId": "b8fe6d89-bb0a-4af1-cbb4-96fd092e98c8"
      },
      "outputs": [
        {
          "name": "stdout",
          "output_type": "stream",
          "text": [
            "My name is Suhaab\n"
          ]
        }
      ],
      "source": [
        "class Person:\n",
        "    def __init__(self,name,age,gender):\n",
        "        self.name= name\n",
        "        self.age= age\n",
        "        self.gender= gender\n",
        "\n",
        "    def introduction (self):\n",
        "        return \"My name is \" + self.name\n",
        "\n",
        "person = Person ('Suhaab', 23, 'Female')\n",
        "print(person.introduction())"
      ]
    },
    {
      "cell_type": "markdown",
      "metadata": {
        "id": "6p3ldbdYueKR"
      },
      "source": [
        "2. Define a class named \"Rectangle\" with attributes \"length\" and \"width\". Define methods \"area\" and\n",
        "\"perimeter\" which return the area and perimeter of the rectangle respectively. Create an instance of the\n",
        "class and call both methods."
      ]
    },
    {
      "cell_type": "code",
      "execution_count": null,
      "metadata": {
        "id": "NGEVJwt5ueKR",
        "outputId": "15bc827f-d4ac-46f0-9e5e-7104fbbef7a8"
      },
      "outputs": [
        {
          "name": "stdout",
          "output_type": "stream",
          "text": [
            "Area: 8\n",
            "Perimeter: 12\n"
          ]
        }
      ],
      "source": [
        "class Rectangle:\n",
        "    def __init__(self,length,width):\n",
        "        self.length= length\n",
        "        self.width = width\n",
        "    def area (self):\n",
        "        return self.length*self.width\n",
        "\n",
        "    def perimeter (self):\n",
        "        return 2*(self.length+self.width)\n",
        "\n",
        "rect = Rectangle (2,4)\n",
        "print('Area:', rect.area())\n",
        "print('Perimeter:', rect.perimeter())"
      ]
    },
    {
      "cell_type": "markdown",
      "metadata": {
        "id": "zgOTusM3ueKS"
      },
      "source": [
        "3. Define a class named \"Student\" with attributes \"name\", \"age\", and \"grades\". Define a method\n",
        "\"average_grade\" which returns the average of the grades. Create an instance of the class and call the\n",
        "method."
      ]
    },
    {
      "cell_type": "code",
      "execution_count": null,
      "metadata": {
        "id": "dDhdXhMQueKT",
        "outputId": "67884708-df8d-420f-e3be-2cb7cb9af2e2"
      },
      "outputs": [
        {
          "name": "stdout",
          "output_type": "stream",
          "text": [
            "Average grades: 82.25\n"
          ]
        }
      ],
      "source": [
        "class Student:\n",
        "    def __init__(self,name,age,grades):\n",
        "        self.name = name\n",
        "        self.age = age\n",
        "        self.grades= grades\n",
        "\n",
        "    def average_grades(self):\n",
        "        sum_of_grades = sum(self.grades)\n",
        "        number_of_grades = len(self.grades)\n",
        "        return sum_of_grades / number_of_grades\n",
        "\n",
        "student = Student('Suhaab',56,[98,70,95,66])\n",
        "print(\"Average grades:\", student.average_grades())"
      ]
    },
    {
      "cell_type": "markdown",
      "metadata": {
        "id": "tDCRBGx-ueKU"
      },
      "source": [
        "4. Create a base class called Animal with a method called make_sound() that prints \"Animal making\n",
        "noise\". Then create two subclasses Dog and Cat that both inherit from Animal . Override the\n",
        "make_sound() method in both subclasses to print \"Woof\" for Dog and \"Meow\" for Cat ."
      ]
    },
    {
      "cell_type": "code",
      "execution_count": null,
      "metadata": {
        "id": "8y8oCejfueKU",
        "outputId": "758be557-8423-4a1a-a5ee-631fbd9605ba"
      },
      "outputs": [
        {
          "name": "stdout",
          "output_type": "stream",
          "text": [
            "woof\n",
            "meow\n"
          ]
        }
      ],
      "source": [
        "class Animal:\n",
        "    def make_sound(self):\n",
        "        print(\"Animal making noise\")\n",
        "\n",
        "class Dog (Animal):\n",
        "    def make_sound(self):\n",
        "        print(\"woof\")\n",
        "\n",
        "class Cat (Animal):\n",
        "    def make_sound(self):\n",
        "        print('meow')\n",
        "\n",
        "dog = Dog()\n",
        "cat = Cat()\n",
        "dog.make_sound()\n",
        "cat.make_sound()\n"
      ]
    },
    {
      "cell_type": "markdown",
      "metadata": {
        "id": "mv8vUa9fueKV"
      },
      "source": [
        "5. Create a class Rectangle with methods to calculate the area and perimeter. Then create a class\n",
        "Square that inherits from Rectangle . Override the methods in Square to only use one side length\n",
        "as the width and height."
      ]
    },
    {
      "cell_type": "code",
      "execution_count": null,
      "metadata": {
        "id": "XCbTwIWiueKV",
        "outputId": "05287690-5d01-4b75-e3d6-75ae637d2949"
      },
      "outputs": [
        {
          "name": "stdout",
          "output_type": "stream",
          "text": [
            "Area: 8\n",
            "Perimeter: 12\n",
            "Square area: 16\n",
            "Square perimeter: 16\n"
          ]
        }
      ],
      "source": [
        "class Rectangle:\n",
        "    def __init__(self,length,width):\n",
        "        self.length= length\n",
        "        self.width = width\n",
        "    def area (self):\n",
        "        return self.length*self.width\n",
        "\n",
        "    def perimeter (self):\n",
        "        return 2*(self.length+self.width)\n",
        "\n",
        "rect = Rectangle (2,4)\n",
        "print('Area:', rect.area())\n",
        "print('Perimeter:', rect.perimeter())\n",
        "\n",
        "class Square (Rectangle):\n",
        "    def __init__(self, side_length):\n",
        "        super().__init__(side_length, side_length)\n",
        "    def area (self):\n",
        "        return self.length * self.length\n",
        "    def perimeter(self):\n",
        "        return 4 * self.length\n",
        "\n",
        "sq = Square (4)\n",
        "print(\"Square area:\", sq.area())\n",
        "print(\"Square perimeter:\", sq.perimeter())"
      ]
    },
    {
      "cell_type": "markdown",
      "metadata": {
        "id": "nFPHIH88ueKW"
      },
      "source": [
        "6. Create a class Person with attributes name and age . Then create a subclass Student that inherits\n",
        "from Person . Add an attribute student_id to the Student class. Override the __str__ method\n",
        "in both classes to return a custom string representation of each class."
      ]
    },
    {
      "cell_type": "code",
      "execution_count": null,
      "metadata": {
        "id": "37zYaB0zueKW",
        "outputId": "3ff07cc6-c739-4a81-df84-cde16c2ab880"
      },
      "outputs": [
        {
          "name": "stdout",
          "output_type": "stream",
          "text": [
            "Person: Suhaab, Age: 23\n",
            "Student: Suhaab, Age: 23, Student ID: 23MSDS15\n"
          ]
        }
      ],
      "source": [
        "class Person:\n",
        "    def __init__(self,name,age):\n",
        "        self.name= name\n",
        "        self.age= age\n",
        "\n",
        "    def __str__(self):\n",
        "        return f\"Person: {self.name}, Age: {self.age}\"\n",
        "\n",
        "class Student(Person):\n",
        "    def __init__(self,name, age, student_id):\n",
        "        super().__init__(name, age)\n",
        "        self.student_id = student_id\n",
        "\n",
        "    def __str__(self):\n",
        "        return f\"Student: {self.name}, Age: {self.age}, Student ID: {self.student_id}\"\n",
        "\n",
        "person = Person(\"Suhaab\", 23)\n",
        "print(person)\n",
        "\n",
        "student = Student(\"Suhaab\", 23, \"23MSDS15\")\n",
        "print(student)"
      ]
    },
    {
      "cell_type": "markdown",
      "metadata": {
        "id": "NAJ5hSc8ueKX"
      },
      "source": [
        "7. Write a function to divide two numbers. If the denominator is 0, raise an exception with the message\n",
        "\"division by zero error\"."
      ]
    },
    {
      "cell_type": "code",
      "execution_count": null,
      "metadata": {
        "id": "tuVTpEhaueKX",
        "outputId": "e25b9710-df6a-43ce-bbc9-a3e97f9d7d80"
      },
      "outputs": [
        {
          "ename": "Exception",
          "evalue": "division by zero error",
          "output_type": "error",
          "traceback": [
            "\u001b[1;31m---------------------------------------------------------------------------\u001b[0m",
            "\u001b[1;31mException\u001b[0m                                 Traceback (most recent call last)",
            "Cell \u001b[1;32mIn[54], line 8\u001b[0m\n\u001b[0;32m      6\u001b[0m numerator \u001b[39m=\u001b[39m \u001b[39m10\u001b[39m\n\u001b[0;32m      7\u001b[0m denominator \u001b[39m=\u001b[39m \u001b[39m0\u001b[39m\n\u001b[1;32m----> 8\u001b[0m result \u001b[39m=\u001b[39m divide_numbers(numerator, denominator)\n\u001b[0;32m      9\u001b[0m \u001b[39mprint\u001b[39m(result)\n",
            "Cell \u001b[1;32mIn[54], line 3\u001b[0m, in \u001b[0;36mdivide_numbers\u001b[1;34m(numerator, denominator)\u001b[0m\n\u001b[0;32m      1\u001b[0m \u001b[39mdef\u001b[39;00m \u001b[39mdivide_numbers\u001b[39m(numerator, denominator):\n\u001b[0;32m      2\u001b[0m     \u001b[39mif\u001b[39;00m denominator \u001b[39m==\u001b[39m \u001b[39m0\u001b[39m:\n\u001b[1;32m----> 3\u001b[0m         \u001b[39mraise\u001b[39;00m \u001b[39mException\u001b[39;00m(\u001b[39m\"\u001b[39m\u001b[39mdivision by zero error\u001b[39m\u001b[39m\"\u001b[39m)\n\u001b[0;32m      4\u001b[0m     \u001b[39mreturn\u001b[39;00m numerator \u001b[39m/\u001b[39m denominator\n",
            "\u001b[1;31mException\u001b[0m: division by zero error"
          ]
        }
      ],
      "source": [
        "def divide_numbers(numerator, denominator):\n",
        "    if denominator == 0:\n",
        "        raise Exception(\"division by zero error\")\n",
        "    return numerator / denominator\n",
        "\n",
        "numerator = 10\n",
        "denominator = 0\n",
        "result = divide_numbers(numerator, denominator)\n",
        "print(result)"
      ]
    },
    {
      "cell_type": "markdown",
      "metadata": {
        "id": "J4HzfI-KueKY"
      },
      "source": [
        "8. Write a function to calculate the square root of a number. If the number is negative, raise an exception\n",
        "with the message \"negative number error\"."
      ]
    },
    {
      "cell_type": "code",
      "execution_count": null,
      "metadata": {
        "id": "xjv53aoJueKY",
        "outputId": "51940250-0e76-41d1-ed54-db5144847034"
      },
      "outputs": [
        {
          "ename": "Exception",
          "evalue": "negative number error",
          "output_type": "error",
          "traceback": [
            "\u001b[1;31m---------------------------------------------------------------------------\u001b[0m",
            "\u001b[1;31mException\u001b[0m                                 Traceback (most recent call last)",
            "Cell \u001b[1;32mIn[62], line 7\u001b[0m\n\u001b[0;32m      4\u001b[0m     \u001b[39mreturn\u001b[39;00m number\n\u001b[0;32m      6\u001b[0m number \u001b[39m=\u001b[39m \u001b[39m-\u001b[39m\u001b[39m2\u001b[39m\n\u001b[1;32m----> 7\u001b[0m res\u001b[39m=\u001b[39m sqrtofnumber(number)\n\u001b[0;32m      8\u001b[0m \u001b[39mprint\u001b[39m(res)\n",
            "Cell \u001b[1;32mIn[62], line 3\u001b[0m, in \u001b[0;36msqrtofnumber\u001b[1;34m(number)\u001b[0m\n\u001b[0;32m      1\u001b[0m \u001b[39mdef\u001b[39;00m \u001b[39msqrtofnumber\u001b[39m(number):\n\u001b[0;32m      2\u001b[0m     \u001b[39mif\u001b[39;00m number\u001b[39m<\u001b[39m\u001b[39m0\u001b[39m:\n\u001b[1;32m----> 3\u001b[0m         \u001b[39mraise\u001b[39;00m \u001b[39mException\u001b[39;00m(\u001b[39m\"\u001b[39m\u001b[39mnegative number error\u001b[39m\u001b[39m\"\u001b[39m)\n\u001b[0;32m      4\u001b[0m     \u001b[39mreturn\u001b[39;00m number\n",
            "\u001b[1;31mException\u001b[0m: negative number error"
          ]
        }
      ],
      "source": [
        "def sqrtofnumber(number):\n",
        "    if number<0:\n",
        "        raise Exception(\"negative number error\")\n",
        "    return number\n",
        "\n",
        "number = -2\n",
        "res= sqrtofnumber(number)\n",
        "print(res)"
      ]
    },
    {
      "cell_type": "markdown",
      "metadata": {
        "id": "erhhkTuZueKY"
      },
      "source": [
        "9. Write a function to read a file and count the number of lines in it. If the file does not exist, raise an\n",
        "exception with the message \"file not found error\"."
      ]
    },
    {
      "cell_type": "code",
      "execution_count": null,
      "metadata": {
        "id": "TCKCrY4XueKY",
        "outputId": "ada1e77a-c403-4d2c-d1a1-32442ad8c016"
      },
      "outputs": [
        {
          "ename": "Exception",
          "evalue": "file not found error",
          "output_type": "error",
          "traceback": [
            "\u001b[1;31m---------------------------------------------------------------------------\u001b[0m",
            "\u001b[1;31mFileNotFoundError\u001b[0m                         Traceback (most recent call last)",
            "Cell \u001b[1;32mIn[64], line 3\u001b[0m, in \u001b[0;36mcount_lines_in_file\u001b[1;34m(file_path)\u001b[0m\n\u001b[0;32m      2\u001b[0m \u001b[39mtry\u001b[39;00m:\n\u001b[1;32m----> 3\u001b[0m     \u001b[39mwith\u001b[39;00m \u001b[39mopen\u001b[39;49m(file_path, \u001b[39m'\u001b[39;49m\u001b[39mr\u001b[39;49m\u001b[39m'\u001b[39;49m) \u001b[39mas\u001b[39;00m file:\n\u001b[0;32m      4\u001b[0m         \u001b[39mreturn\u001b[39;00m \u001b[39msum\u001b[39m(\u001b[39m1\u001b[39m \u001b[39mfor\u001b[39;00m line \u001b[39min\u001b[39;00m file)\n",
            "File \u001b[1;32m~\\AppData\\Roaming\\Python\\Python311\\site-packages\\IPython\\core\\interactiveshell.py:282\u001b[0m, in \u001b[0;36m_modified_open\u001b[1;34m(file, *args, **kwargs)\u001b[0m\n\u001b[0;32m    276\u001b[0m     \u001b[39mraise\u001b[39;00m \u001b[39mValueError\u001b[39;00m(\n\u001b[0;32m    277\u001b[0m         \u001b[39mf\u001b[39m\u001b[39m\"\u001b[39m\u001b[39mIPython won\u001b[39m\u001b[39m'\u001b[39m\u001b[39mt let you open fd=\u001b[39m\u001b[39m{\u001b[39;00mfile\u001b[39m}\u001b[39;00m\u001b[39m by default \u001b[39m\u001b[39m\"\u001b[39m\n\u001b[0;32m    278\u001b[0m         \u001b[39m\"\u001b[39m\u001b[39mas it is likely to crash IPython. If you know what you are doing, \u001b[39m\u001b[39m\"\u001b[39m\n\u001b[0;32m    279\u001b[0m         \u001b[39m\"\u001b[39m\u001b[39myou can use builtins\u001b[39m\u001b[39m'\u001b[39m\u001b[39m open.\u001b[39m\u001b[39m\"\u001b[39m\n\u001b[0;32m    280\u001b[0m     )\n\u001b[1;32m--> 282\u001b[0m \u001b[39mreturn\u001b[39;00m io_open(file, \u001b[39m*\u001b[39;49margs, \u001b[39m*\u001b[39;49m\u001b[39m*\u001b[39;49mkwargs)\n",
            "\u001b[1;31mFileNotFoundError\u001b[0m: [Errno 2] No such file or directory: 'example.txt'",
            "\nDuring handling of the above exception, another exception occurred:\n",
            "\u001b[1;31mException\u001b[0m                                 Traceback (most recent call last)",
            "Cell \u001b[1;32mIn[64], line 9\u001b[0m\n\u001b[0;32m      6\u001b[0m         \u001b[39mraise\u001b[39;00m \u001b[39mException\u001b[39;00m(\u001b[39m\"\u001b[39m\u001b[39mfile not found error\u001b[39m\u001b[39m\"\u001b[39m)\n\u001b[0;32m      8\u001b[0m file_path \u001b[39m=\u001b[39m \u001b[39m'\u001b[39m\u001b[39mexample.txt\u001b[39m\u001b[39m'\u001b[39m\n\u001b[1;32m----> 9\u001b[0m resu\u001b[39m=\u001b[39m count_lines_in_file(file_path)\n\u001b[0;32m     10\u001b[0m \u001b[39mprint\u001b[39m (resu)\n",
            "Cell \u001b[1;32mIn[64], line 6\u001b[0m, in \u001b[0;36mcount_lines_in_file\u001b[1;34m(file_path)\u001b[0m\n\u001b[0;32m      4\u001b[0m         \u001b[39mreturn\u001b[39;00m \u001b[39msum\u001b[39m(\u001b[39m1\u001b[39m \u001b[39mfor\u001b[39;00m line \u001b[39min\u001b[39;00m file)\n\u001b[0;32m      5\u001b[0m \u001b[39mexcept\u001b[39;00m \u001b[39mFileNotFoundError\u001b[39;00m:\n\u001b[1;32m----> 6\u001b[0m     \u001b[39mraise\u001b[39;00m \u001b[39mException\u001b[39;00m(\u001b[39m\"\u001b[39m\u001b[39mfile not found error\u001b[39m\u001b[39m\"\u001b[39m)\n",
            "\u001b[1;31mException\u001b[0m: file not found error"
          ]
        }
      ],
      "source": [
        "def count_lines_in_file(file_path):\n",
        "    try:\n",
        "        with open(file_path, 'r') as file:\n",
        "            return sum(1 for line in file)\n",
        "    except FileNotFoundError:\n",
        "        raise Exception(\"file not found error\")\n",
        "\n",
        "file_path = 'example.txt'\n",
        "resultt= count_lines_in_file(file_path)\n",
        "print (resultt)\n"
      ]
    }
  ],
  "metadata": {
    "language_info": {
      "name": "python"
    },
    "orig_nbformat": 4,
    "colab": {
      "provenance": []
    }
  },
  "nbformat": 4,
  "nbformat_minor": 0
}