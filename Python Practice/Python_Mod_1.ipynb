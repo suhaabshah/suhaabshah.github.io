{
  "cells": [
    {
      "cell_type": "markdown",
      "metadata": {
        "id": "K7GkSf_FuCZX"
      },
      "source": [
        " # Python Module 1 Exercises"
      ]
    },
    {
      "cell_type": "markdown",
      "metadata": {
        "id": "q8UKvntDuCZf"
      },
      "source": [
        "1. Write a program that prompts the user for two integers, and then performs the following\n",
        "operations using those integers: addition, subtraction, multiplication, division, modulus, and floor\n",
        "division. Print the results of each operation to the console."
      ]
    },
    {
      "cell_type": "code",
      "execution_count": null,
      "metadata": {
        "id": "4JCjGmfZuCZh",
        "outputId": "99e13f0c-c630-49e0-b41d-c31dc3f27f1d"
      },
      "outputs": [
        {
          "name": "stdout",
          "output_type": "stream",
          "text": [
            "Addition: 60\n",
            "Subtraction: -20\n",
            "Division: 0.5\n",
            "Multiplication: 800\n",
            "Modulus: 20\n",
            "Floor Division: 0\n"
          ]
        }
      ],
      "source": [
        "num1 = int(input(\"Enter first number:\"))\n",
        "num2 = int (input(\"Enter second number:\"))\n",
        "\n",
        "Addition = num1+num2\n",
        "Subtraction = num1-num2\n",
        "Division = num1/num2\n",
        "Multiplication = num1*num2\n",
        "Modulus = num1%num2\n",
        "FloorDivision = num1//num2\n",
        "\n",
        "print (\"Addition:\", Addition)\n",
        "print (\"Subtraction:\", Subtraction)\n",
        "print (\"Division:\", Division)\n",
        "print (\"Multiplication:\", Multiplication)\n",
        "print (\"Modulus:\", Modulus)\n",
        "print (\"Floor Division:\", FloorDivision)"
      ]
    },
    {
      "cell_type": "markdown",
      "metadata": {
        "id": "LVodznGJuCZm"
      },
      "source": [
        "2. Write a program that prompts the user for a string, and then performs the following operations using that string: concatenation, repetition, and indexing. Print the results of each operation to the console\n"
      ]
    },
    {
      "cell_type": "code",
      "execution_count": null,
      "metadata": {
        "id": "llqcBu0KuCZn",
        "outputId": "bcc08175-e8fb-4fc0-84c6-6a6e4b4760cf"
      },
      "outputs": [
        {
          "name": "stdout",
          "output_type": "stream",
          "text": [
            "concatenation: Data ScienceData Science\n",
            "repition: Data ScienceData ScienceData ScienceData ScienceData Science\n",
            "Character at index 2: t\n"
          ]
        }
      ],
      "source": [
        "user_input = str(input(\"Enter a string:\"))\n",
        "\n",
        "concatenation = user_input+user_input #This adds the strings\n",
        "repition = (user_input)*5  #This will repeat the string 5 times\n",
        "\n",
        "print (\"concatenation:\", concatenation)\n",
        "print (\"repition:\", repition)\n",
        "\n",
        "index_result = user_input[2] #This will print out the character at the second index\n",
        "print(\"Character at index 2:\", index_result)"
      ]
    },
    {
      "cell_type": "markdown",
      "metadata": {
        "id": "1ZFkCBJRuCZo"
      },
      "source": [
        "3. Write a program that prompts the user for a list of integers, and then performs the following\n",
        "operations using that list: appending, inserting, and removing elements. Print the results of each\n",
        "operation to the console"
      ]
    },
    {
      "cell_type": "code",
      "execution_count": null,
      "metadata": {
        "id": "58yXVFdAuCZp",
        "outputId": "89e6aa10-67c5-400d-da3e-403e2978034a"
      },
      "outputs": [
        {
          "name": "stdout",
          "output_type": "stream",
          "text": [
            "List after appending 99 at the end:  [1, 2, 82, 3, 4, 5, 6, 7, 8, 9, 10, 87, 25, 98, 99]\n",
            "List after removing 25: [1, 2, 82, 3, 4, 5, 6, 7, 8, 9, 10, 87, 25, 98, 99]\n",
            "List after inserting 82 at the 2nd index: [1, 2, 82, 3, 4, 5, 6, 7, 8, 9, 10, 87, 25, 98, 99]\n",
            "[1, 2, 82, 3, 4, 5, 6, 7, 8, 9, 10, 87, 25, 98, 99]\n"
          ]
        }
      ],
      "source": [
        "user_input = input(\"Enter a list of integers, separated by spaces:\")\n",
        "user_list = [int(i) for i in user_input.split()] #The split function here will split the user's input string into a list of individual strings It then creates a new list by iterating over each string in the list and converting it to an integer using the int() function. The resulting list of integers is assigned to a variable called user_list.\n",
        "\n",
        "user_list.append(99) #This will add 99 to the end of the list\n",
        "user_list.remove (25) #This will remove the first occurence of 25\n",
        "user_list.insert (2, 82) #This will add 82 at the 2nd index\n",
        "\n",
        "print(\"List after appending 99 at the end: \", user_list)\n",
        "print (\"List after removing 25:\", user_list)\n",
        "print (\"List after inserting 82 at the 2nd index:\", user_list)\n",
        "print (user_list)\n"
      ]
    },
    {
      "cell_type": "markdown",
      "metadata": {
        "id": "yVbm0wIwuCZr"
      },
      "source": [
        "4. Write a program that prompts the user for a number, and then performs the following\n",
        "mathematical operations: square root, power, trigonometric and logarithmic functions. Print the results\n",
        "of each operation to the console."
      ]
    },
    {
      "cell_type": "code",
      "execution_count": null,
      "metadata": {
        "id": "uBfnZpTxuCZr",
        "outputId": "051a2a2a-b73d-4925-a4d9-7b2af2c2f5c2"
      },
      "outputs": [
        {
          "name": "stdout",
          "output_type": "stream",
          "text": [
            "Square root of the number: 5.0\n",
            "Power of the number: 625.0\n",
            "Natural Logarithm of the number: 3.2188758248682006\n",
            "Sine and Cosine of the number: -0.13235175009777303 0.9912028118634736\n"
          ]
        }
      ],
      "source": [
        "user_input = float(input(\"Enter a number:\"))\n",
        "\n",
        "import math #This is the math library for mathematic functions\n",
        "SR= (math.sqrt(user_input))\n",
        "Power = ((user_input)**2)\n",
        "Log = (math.log(user_input))\n",
        "Sin= (math.sin(user_input))\n",
        "Cos = (math.cos (user_input))\n",
        "\n",
        "print (\"Square root of the number:\", SR )\n",
        "print (\"Power of the number:\", Power)\n",
        "print (\"Natural Logarithm of the number:\", Log)\n",
        "print (\"Sine and Cosine of the number:\", Sin, Cos)\n"
      ]
    },
    {
      "cell_type": "markdown",
      "metadata": {
        "id": "uuoS-JQ7uCZs"
      },
      "source": [
        "This is for when we want to remove more than one occurence of a number, for that we use while loop!"
      ]
    },
    {
      "cell_type": "code",
      "execution_count": null,
      "metadata": {
        "id": "MgVmZXqauCZt",
        "outputId": "812436d7-ba19-4d85-864b-0ef2d52b56eb"
      },
      "outputs": [
        {
          "name": "stdout",
          "output_type": "stream",
          "text": [
            "List after appending 26 at the end:  [1, 3, 4, 27, 5, 6, 7, 8, 26]\n",
            "List after removing 2: [1, 3, 4, 27, 5, 6, 7, 8, 26]\n",
            "List after inserting 27 at the 3rd index: [1, 3, 4, 27, 5, 6, 7, 8, 26]\n",
            "[1, 3, 4, 27, 5, 6, 7, 8, 26]\n"
          ]
        }
      ],
      "source": [
        "user_input = input(\"Enter a list of integers, separated by spaces:\")\n",
        "user_list = [int(i) for i in user_input.split()] #The split function here will split the user's input string into a list of individual strings It then creates a new list by iterating over each string in the list and converting it to an integer using the int() function. The resulting list of integers is assigned to a variable called user_list.\n",
        "\n",
        "user_list.append(26) #This will add 26 to the end of the list\n",
        "while 2 in user_list:\n",
        " user_list.remove (2)\n",
        "user_list.insert (3, 27) #This will add 27 at the 3rd index\n",
        "\n",
        "print(\"List after appending 26 at the end: \", user_list)\n",
        "print (\"List after removing 2:\", user_list)\n",
        "print (\"List after inserting 27 at the 3rd index:\", user_list)\n",
        "print (user_list)\n"
      ]
    }
  ],
  "metadata": {
    "kernelspec": {
      "display_name": "Python 3 (ipykernel)",
      "language": "python",
      "name": "python3"
    },
    "language_info": {
      "codemirror_mode": {
        "name": "ipython",
        "version": 3
      },
      "file_extension": ".py",
      "mimetype": "text/x-python",
      "name": "python",
      "nbconvert_exporter": "python",
      "pygments_lexer": "ipython3",
      "version": "3.11.4"
    },
    "vscode": {
      "interpreter": {
        "hash": "588434bd0bd7caf689507eac3f09d797948b610ce2284fab8df548f62a793fe0"
      }
    },
    "colab": {
      "provenance": []
    }
  },
  "nbformat": 4,
  "nbformat_minor": 0
}